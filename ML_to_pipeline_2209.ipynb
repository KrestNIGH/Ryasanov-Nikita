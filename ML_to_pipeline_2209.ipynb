{
  "nbformat": 4,
  "nbformat_minor": 0,
  "metadata": {
    "colab": {
      "name": "ML_to_pipeline_2209",
      "provenance": [],
      "collapsed_sections": [],
      "include_colab_link": true
    },
    "kernelspec": {
      "name": "python3",
      "display_name": "Python 3"
    }
  },
  "cells": [
    {
      "cell_type": "markdown",
      "metadata": {
        "id": "view-in-github",
        "colab_type": "text"
      },
      "source": [
        "<a href=\"https://colab.research.google.com/github/KrestNIGH/Ryasanov-Nikita/blob/master/ML_to_pipeline_2209.ipynb\" target=\"_parent\"><img src=\"https://colab.research.google.com/assets/colab-badge.svg\" alt=\"Open In Colab\"/></a>"
      ]
    },
    {
      "cell_type": "markdown",
      "metadata": {
        "id": "-BRp9QBydnf3",
        "colab_type": "text"
      },
      "source": [
        "Все ещё хуже"
      ]
    },
    {
      "cell_type": "code",
      "metadata": {
        "id": "rl4zuq1WruT8",
        "colab_type": "code",
        "colab": {}
      },
      "source": [
        "from google.colab import drive\n",
        "import pandas as pd\n",
        "import numpy as np\n",
        "import copy\n",
        "from sklearn.metrics import make_scorer\n",
        "from sklearn.svm import SVR\n",
        "from sklearn.neighbors import KNeighborsRegressor\n",
        "from sklearn.tree import DecisionTreeRegressor\n",
        "from sklearn.ensemble import RandomForestRegressor\n",
        "import xgboost as xgb\n",
        "import pickle"
      ],
      "execution_count": 83,
      "outputs": []
    },
    {
      "cell_type": "code",
      "metadata": {
        "id": "mX8MdgPWsKe9",
        "colab_type": "code",
        "colab": {
          "base_uri": "https://localhost:8080/",
          "height": 34
        },
        "outputId": "54ac7c7f-fad0-413d-ec2e-3173fe72292d"
      },
      "source": [
        "drive.mount('/content/drive')"
      ],
      "execution_count": 84,
      "outputs": [
        {
          "output_type": "stream",
          "text": [
            "Drive already mounted at /content/drive; to attempt to forcibly remount, call drive.mount(\"/content/drive\", force_remount=True).\n"
          ],
          "name": "stdout"
        }
      ]
    },
    {
      "cell_type": "code",
      "metadata": {
        "id": "St5QZBtptSM8",
        "colab_type": "code",
        "colab": {}
      },
      "source": [
        "#в общем пайплайне будет не нужен\n",
        "def our_eternal_errors(x, sorrows=False):\n",
        "  if sorrows:\n",
        "    x = x.split(', ')[1:]\n",
        "    x[-1] = x[-1][0:-2]\n",
        "  else:\n",
        "    x = x.split(', ')\n",
        "    x[-1] = x[-1][0:-1]\n",
        "  x[0] = x[0][1:]\n",
        "  return list(map(float, x)) \n",
        "def and_our_sorrows(x):\n",
        "  return int(x.split(',')[0][1:])\n"
      ],
      "execution_count": 85,
      "outputs": []
    },
    {
      "cell_type": "code",
      "metadata": {
        "id": "nL7xoN0VoJ1m",
        "colab_type": "code",
        "colab": {}
      },
      "source": [
        "def gauss_scorer_func(y_true, y_pred):\n",
        "  y_true = y_true.astype('float64')\n",
        "  gauss = np.exp(-5*((y_pred-y_true)/y_true)**2)\n",
        "  return np.median(gauss)\n",
        "gauss_scorer = make_scorer(gauss_scorer_func, greater_is_better=True)#scorer object"
      ],
      "execution_count": 86,
      "outputs": []
    },
    {
      "cell_type": "code",
      "metadata": {
        "id": "GGkrR_TGAIIg",
        "colab_type": "code",
        "colab": {}
      },
      "source": [
        "def array_cutting(array_1, size=40):\n",
        "  array = copy.deepcopy(array_1)\n",
        "  size_difference = len(array) - size\n",
        "  if size_difference <= 0:\n",
        "    return array_padding(array, size)\n",
        "  while len(array) > size:\n",
        "    if len(array) - size >= 2:\n",
        "      array.pop(0)\n",
        "      array.pop(-1)\n",
        "    else:\n",
        "      array.pop(0)\n",
        "  return array"
      ],
      "execution_count": 90,
      "outputs": []
    },
    {
      "cell_type": "code",
      "metadata": {
        "id": "qVHJUAus43eo",
        "colab_type": "code",
        "colab": {}
      },
      "source": [
        "def array_padding(array_1, size, flag='value', value=1, only_up=True):\n",
        "  array = copy.deepcopy(array_1)\n",
        "  size_difference = size - len(array)\n",
        "  if size_difference == 0:\n",
        "    return array\n",
        "  elif size_difference < 0:\n",
        "    raise Exception('Array length exceeds given size')\n",
        "\n",
        "  if flag == 'mean':\n",
        "    value = np.mean(array)\n",
        "  elif flag == 'median':\n",
        "    value = np.median(array)\n",
        "  elif flag == 'value':\n",
        "    pass\n",
        "  else:\n",
        "    raise Exception('Incorrect flag')\n",
        "\n",
        "  if only_up:\n",
        "    while len(array) < size:\n",
        "      array.insert(0, value)\n",
        "  else:\n",
        "    array.extend([value] * round((size_difference)//2))\n",
        "    [array.insert(0, value) for i in range(round((size_difference)//2))]\n",
        "    while len(array) < size:\n",
        "      array.insert(0, value)\n",
        "\n",
        "  return array"
      ],
      "execution_count": 91,
      "outputs": []
    },
    {
      "cell_type": "code",
      "metadata": {
        "id": "rY0ayv33nXeF",
        "colab_type": "code",
        "colab": {
          "base_uri": "https://localhost:8080/",
          "height": 34
        },
        "outputId": "c267a87f-c004-4c68-c3df-d55dd6a01ecd"
      },
      "source": [
        "# uploading pre-trained algorithms\n",
        "rf = pickle.load(open('/content/drive/My Drive/Dom_rf_project/search_rf.pkl', 'rb'))\n",
        "svr = pickle.load(open('/content/drive/My Drive/Dom_rf_project/search_svr.pkl', 'rb'))\n",
        "xgb1 = xgb.Booster()\n",
        "xgb1.load_model('/content/drive/My Drive/Dom_rf_project/search_xgb.bin')\n",
        "knr = pickle.load(open('/content/drive/My Drive/Dom_rf_project/search_knr.pkl', 'rb'))"
      ],
      "execution_count": 92,
      "outputs": [
        {
          "output_type": "stream",
          "text": [
            "[10:54:49] WARNING: ../src/learner.cc:764: Loading model from XGBoost < 1.0.0, consider saving it again for improved compatibility\n"
          ],
          "name": "stdout"
        }
      ]
    },
    {
      "cell_type": "code",
      "metadata": {
        "id": "QrvcHwjFk_4c",
        "colab_type": "code",
        "colab": {}
      },
      "source": [
        "\"\"\"\n",
        "весь пайплайн должен получать на вход несколько картинок, соответсвующих одному id, и выдавать для него одно предсказание\n",
        "на части с машинкой на вход идёт массив массивов корреляций, по каждому из массивов делается предсказание и на выходе нужно усреднять предсказания(возможно, учитывая выбросы)\n",
        "input = cor_lists(list of cor_list)\n",
        "\"\"\"\n",
        "cor_lists = [array_cutting(our_eternal_errors(df_test.pred_cor_both[i], sorrows=False)) for i in range(3)]\n",
        "amount = len(cor_lists)\n",
        "cor_lists.append([1] * 40)\n",
        "cor_df = pd.DataFrame()\n",
        "for i in range(40):\n",
        "  cor_df[f'padded_corrlations_{i}'] = [x[i] for x in cor_lists]"
      ],
      "execution_count": 103,
      "outputs": []
    },
    {
      "cell_type": "code",
      "metadata": {
        "id": "hcxXY9AseIK8",
        "colab_type": "code",
        "colab": {
          "base_uri": "https://localhost:8080/",
          "height": 193
        },
        "outputId": "6a011b69-c8f7-4cc7-b168-25129edad552"
      },
      "source": [
        "cor_df"
      ],
      "execution_count": 104,
      "outputs": [
        {
          "output_type": "execute_result",
          "data": {
            "text/html": [
              "<div>\n",
              "<style scoped>\n",
              "    .dataframe tbody tr th:only-of-type {\n",
              "        vertical-align: middle;\n",
              "    }\n",
              "\n",
              "    .dataframe tbody tr th {\n",
              "        vertical-align: top;\n",
              "    }\n",
              "\n",
              "    .dataframe thead th {\n",
              "        text-align: right;\n",
              "    }\n",
              "</style>\n",
              "<table border=\"1\" class=\"dataframe\">\n",
              "  <thead>\n",
              "    <tr style=\"text-align: right;\">\n",
              "      <th></th>\n",
              "      <th>padded_corrlations_0</th>\n",
              "      <th>padded_corrlations_1</th>\n",
              "      <th>padded_corrlations_2</th>\n",
              "      <th>padded_corrlations_3</th>\n",
              "      <th>padded_corrlations_4</th>\n",
              "      <th>padded_corrlations_5</th>\n",
              "      <th>padded_corrlations_6</th>\n",
              "      <th>padded_corrlations_7</th>\n",
              "      <th>padded_corrlations_8</th>\n",
              "      <th>padded_corrlations_9</th>\n",
              "      <th>padded_corrlations_10</th>\n",
              "      <th>padded_corrlations_11</th>\n",
              "      <th>padded_corrlations_12</th>\n",
              "      <th>padded_corrlations_13</th>\n",
              "      <th>padded_corrlations_14</th>\n",
              "      <th>padded_corrlations_15</th>\n",
              "      <th>padded_corrlations_16</th>\n",
              "      <th>padded_corrlations_17</th>\n",
              "      <th>padded_corrlations_18</th>\n",
              "      <th>padded_corrlations_19</th>\n",
              "      <th>padded_corrlations_20</th>\n",
              "      <th>padded_corrlations_21</th>\n",
              "      <th>padded_corrlations_22</th>\n",
              "      <th>padded_corrlations_23</th>\n",
              "      <th>padded_corrlations_24</th>\n",
              "      <th>padded_corrlations_25</th>\n",
              "      <th>padded_corrlations_26</th>\n",
              "      <th>padded_corrlations_27</th>\n",
              "      <th>padded_corrlations_28</th>\n",
              "      <th>padded_corrlations_29</th>\n",
              "      <th>padded_corrlations_30</th>\n",
              "      <th>padded_corrlations_31</th>\n",
              "      <th>padded_corrlations_32</th>\n",
              "      <th>padded_corrlations_33</th>\n",
              "      <th>padded_corrlations_34</th>\n",
              "      <th>padded_corrlations_35</th>\n",
              "      <th>padded_corrlations_36</th>\n",
              "      <th>padded_corrlations_37</th>\n",
              "      <th>padded_corrlations_38</th>\n",
              "      <th>padded_corrlations_39</th>\n",
              "    </tr>\n",
              "  </thead>\n",
              "  <tbody>\n",
              "    <tr>\n",
              "      <th>0</th>\n",
              "      <td>1</td>\n",
              "      <td>1</td>\n",
              "      <td>1</td>\n",
              "      <td>1</td>\n",
              "      <td>1</td>\n",
              "      <td>1</td>\n",
              "      <td>1</td>\n",
              "      <td>1</td>\n",
              "      <td>1</td>\n",
              "      <td>1</td>\n",
              "      <td>1</td>\n",
              "      <td>1</td>\n",
              "      <td>1</td>\n",
              "      <td>1</td>\n",
              "      <td>1</td>\n",
              "      <td>1</td>\n",
              "      <td>1</td>\n",
              "      <td>1</td>\n",
              "      <td>1</td>\n",
              "      <td>1.000000</td>\n",
              "      <td>1.000000</td>\n",
              "      <td>1.000000</td>\n",
              "      <td>1.000000</td>\n",
              "      <td>1.000000</td>\n",
              "      <td>1.000000</td>\n",
              "      <td>1.000000</td>\n",
              "      <td>1.000000</td>\n",
              "      <td>0.290862</td>\n",
              "      <td>0.659733</td>\n",
              "      <td>0.398386</td>\n",
              "      <td>0.093360</td>\n",
              "      <td>0.087235</td>\n",
              "      <td>0.085757</td>\n",
              "      <td>0.167856</td>\n",
              "      <td>0.311675</td>\n",
              "      <td>0.257201</td>\n",
              "      <td>0.201642</td>\n",
              "      <td>-0.349122</td>\n",
              "      <td>0.046703</td>\n",
              "      <td>-0.154900</td>\n",
              "    </tr>\n",
              "    <tr>\n",
              "      <th>1</th>\n",
              "      <td>1</td>\n",
              "      <td>1</td>\n",
              "      <td>1</td>\n",
              "      <td>1</td>\n",
              "      <td>1</td>\n",
              "      <td>1</td>\n",
              "      <td>1</td>\n",
              "      <td>1</td>\n",
              "      <td>1</td>\n",
              "      <td>1</td>\n",
              "      <td>1</td>\n",
              "      <td>1</td>\n",
              "      <td>1</td>\n",
              "      <td>1</td>\n",
              "      <td>1</td>\n",
              "      <td>1</td>\n",
              "      <td>1</td>\n",
              "      <td>1</td>\n",
              "      <td>1</td>\n",
              "      <td>0.231047</td>\n",
              "      <td>0.137848</td>\n",
              "      <td>-0.131317</td>\n",
              "      <td>0.300329</td>\n",
              "      <td>0.877377</td>\n",
              "      <td>0.858289</td>\n",
              "      <td>0.851380</td>\n",
              "      <td>0.891163</td>\n",
              "      <td>0.828916</td>\n",
              "      <td>0.839487</td>\n",
              "      <td>0.842051</td>\n",
              "      <td>0.690701</td>\n",
              "      <td>0.668176</td>\n",
              "      <td>0.528589</td>\n",
              "      <td>0.460643</td>\n",
              "      <td>0.467501</td>\n",
              "      <td>-0.080125</td>\n",
              "      <td>-0.085299</td>\n",
              "      <td>-0.176719</td>\n",
              "      <td>-0.143744</td>\n",
              "      <td>-0.768313</td>\n",
              "    </tr>\n",
              "    <tr>\n",
              "      <th>2</th>\n",
              "      <td>1</td>\n",
              "      <td>1</td>\n",
              "      <td>1</td>\n",
              "      <td>1</td>\n",
              "      <td>1</td>\n",
              "      <td>1</td>\n",
              "      <td>1</td>\n",
              "      <td>1</td>\n",
              "      <td>1</td>\n",
              "      <td>1</td>\n",
              "      <td>1</td>\n",
              "      <td>1</td>\n",
              "      <td>1</td>\n",
              "      <td>1</td>\n",
              "      <td>1</td>\n",
              "      <td>1</td>\n",
              "      <td>1</td>\n",
              "      <td>1</td>\n",
              "      <td>1</td>\n",
              "      <td>0.073135</td>\n",
              "      <td>0.185721</td>\n",
              "      <td>0.357965</td>\n",
              "      <td>0.206891</td>\n",
              "      <td>0.600238</td>\n",
              "      <td>0.729677</td>\n",
              "      <td>0.637508</td>\n",
              "      <td>0.745011</td>\n",
              "      <td>0.683721</td>\n",
              "      <td>0.621307</td>\n",
              "      <td>0.047662</td>\n",
              "      <td>0.405462</td>\n",
              "      <td>0.763117</td>\n",
              "      <td>0.708670</td>\n",
              "      <td>0.735394</td>\n",
              "      <td>0.680394</td>\n",
              "      <td>0.731078</td>\n",
              "      <td>0.668980</td>\n",
              "      <td>0.504781</td>\n",
              "      <td>0.279911</td>\n",
              "      <td>0.133213</td>\n",
              "    </tr>\n",
              "    <tr>\n",
              "      <th>3</th>\n",
              "      <td>1</td>\n",
              "      <td>1</td>\n",
              "      <td>1</td>\n",
              "      <td>1</td>\n",
              "      <td>1</td>\n",
              "      <td>1</td>\n",
              "      <td>1</td>\n",
              "      <td>1</td>\n",
              "      <td>1</td>\n",
              "      <td>1</td>\n",
              "      <td>1</td>\n",
              "      <td>1</td>\n",
              "      <td>1</td>\n",
              "      <td>1</td>\n",
              "      <td>1</td>\n",
              "      <td>1</td>\n",
              "      <td>1</td>\n",
              "      <td>1</td>\n",
              "      <td>1</td>\n",
              "      <td>1.000000</td>\n",
              "      <td>1.000000</td>\n",
              "      <td>1.000000</td>\n",
              "      <td>1.000000</td>\n",
              "      <td>1.000000</td>\n",
              "      <td>1.000000</td>\n",
              "      <td>1.000000</td>\n",
              "      <td>1.000000</td>\n",
              "      <td>1.000000</td>\n",
              "      <td>1.000000</td>\n",
              "      <td>1.000000</td>\n",
              "      <td>1.000000</td>\n",
              "      <td>1.000000</td>\n",
              "      <td>1.000000</td>\n",
              "      <td>1.000000</td>\n",
              "      <td>1.000000</td>\n",
              "      <td>1.000000</td>\n",
              "      <td>1.000000</td>\n",
              "      <td>1.000000</td>\n",
              "      <td>1.000000</td>\n",
              "      <td>1.000000</td>\n",
              "    </tr>\n",
              "  </tbody>\n",
              "</table>\n",
              "</div>"
            ],
            "text/plain": [
              "   padded_corrlations_0  ...  padded_corrlations_39\n",
              "0                     1  ...              -0.154900\n",
              "1                     1  ...              -0.768313\n",
              "2                     1  ...               0.133213\n",
              "3                     1  ...               1.000000\n",
              "\n",
              "[4 rows x 40 columns]"
            ]
          },
          "metadata": {
            "tags": []
          },
          "execution_count": 104
        }
      ]
    },
    {
      "cell_type": "code",
      "metadata": {
        "id": "LCcMewRsmAGB",
        "colab_type": "code",
        "colab": {
          "base_uri": "https://localhost:8080/",
          "height": 34
        },
        "outputId": "dda738db-f470-4ca4-bb96-d7a668ea4d88"
      },
      "source": [
        "predictions = []\n",
        "for i in range(amount):\n",
        "  prediction = 0\n",
        "  for regressor in (rf, svr, xgb1, knr):\n",
        "    if regressor == xgb1:\n",
        "      data = xgb.DMatrix(cor_df)\n",
        "      prediction += regressor.predict(data)[i]\n",
        "    else:\n",
        "      prediction += regressor.predict(cor_df)[i]\n",
        "  predictions.append(prediction/len(names))\n",
        "output = np.median(predictions)\n",
        "output"
      ],
      "execution_count": 106,
      "outputs": [
        {
          "output_type": "execute_result",
          "data": {
            "text/plain": [
              "11.943222979110635"
            ]
          },
          "metadata": {
            "tags": []
          },
          "execution_count": 106
        }
      ]
    }
  ]
}